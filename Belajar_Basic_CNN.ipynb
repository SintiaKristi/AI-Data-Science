{
 "cells": [
  {
   "cell_type": "markdown",
   "metadata": {},
   "source": [
    "### Program Training Gambar "
   ]
  },
  {
   "cell_type": "code",
   "execution_count": 1,
   "metadata": {},
   "outputs": [
    {
     "name": "stderr",
     "output_type": "stream",
     "text": [
      "C:\\Users\\Agung\\Anaconda3\\lib\\site-packages\\h5py\\__init__.py:36: FutureWarning: Conversion of the second argument of issubdtype from `float` to `np.floating` is deprecated. In future, it will be treated as `np.float64 == np.dtype(float).type`.\n",
      "  from ._conv import register_converters as _register_converters\n",
      "Using TensorFlow backend.\n"
     ]
    }
   ],
   "source": [
    "# import the necessary packages\n",
    "import numpy as np\n",
    "import argparse\n",
    "import os\n",
    "\n",
    "from keras.models import Sequential\n",
    "from keras.layers.convolutional import Conv2D\n",
    "from keras.layers.convolutional import MaxPooling2D\n",
    "from keras.layers.core import Activation\n",
    "from keras.layers.core import Flatten\n",
    "from keras.layers.core import Dense\n",
    "from keras.optimizers import Adam\n",
    "from sklearn.preprocessing import LabelBinarizer\n",
    "from sklearn.model_selection import train_test_split\n",
    "from sklearn.metrics import classification_report\n",
    "from PIL import Image\n",
    "from imutils import paths\n",
    "\n",
    " \n",
    "# construct the argument parser and parse the arguments\n",
    "# ap = argparse.ArgumentParser()\n",
    "# ap.add_argument(\"-d\", \"--dataset\", type=str, default=\"3scenes\", help=\"path to directory containing the '3scenes' dataset\")\n",
    "# args = vars(ap.parse_args())"
   ]
  },
  {
   "cell_type": "code",
   "execution_count": 2,
   "metadata": {},
   "outputs": [
    {
     "name": "stdout",
     "output_type": "stream",
     "text": [
      "[INFO] extracting image features...\n"
     ]
    }
   ],
   "source": [
    "# Model : knn , naive_bayes, logit, svm, decision_tree, random_forest, mlp\n",
    "\n",
    "print (\"[INFO] extracting image features...\")\n",
    "imagePaths = paths.list_images(\"3scenes\")\n",
    "\n",
    "data = []\n",
    "labels = []\n",
    "\n",
    "for imagePath in imagePaths:\n",
    "    image = Image.open(imagePath)\n",
    "    image = np.array(image.resize((32, 32))) / 255.0\n",
    "    \n",
    "    data.append(image)\n",
    "    \n",
    "    label = imagePath.split(os.path.sep)[-2]\n",
    "    labels.append(label)\n",
    "    "
   ]
  },
  {
   "cell_type": "code",
   "execution_count": 3,
   "metadata": {},
   "outputs": [],
   "source": [
    "lb = LabelBinarizer()\n",
    "labels = lb.fit_transform(labels)\n",
    "\n",
    "(trainX, testX, trainY, testY) = train_test_split(np.array(data), np.array(labels), test_size = 0.25)"
   ]
  },
  {
   "cell_type": "code",
   "execution_count": 4,
   "metadata": {},
   "outputs": [],
   "source": [
    "model = Sequential()\n",
    "model.add(Conv2D(8, (3, 3), padding=\"same\", input_shape=(32, 32, 3)))\n",
    "model.add(Activation(\"relu\"))\n",
    "model.add(MaxPooling2D(pool_size=(2, 2), strides=(2, 2)))\n",
    "model.add(Conv2D(16, (3, 3), padding=\"same\"))\n",
    "model.add(Activation(\"relu\"))\n",
    "model.add(MaxPooling2D(pool_size=(2, 2), strides=(2, 2)))\n",
    "model.add(Conv2D(32, (3, 3), padding=\"same\"))\n",
    "model.add(Activation(\"relu\"))\n",
    "model.add(MaxPooling2D(pool_size=(2, 2), strides=(2, 2)))\n",
    "model.add(Flatten())\n",
    "model.add(Dense(3))\n",
    "model.add(Activation(\"softmax\"))"
   ]
  },
  {
   "cell_type": "code",
   "execution_count": 5,
   "metadata": {},
   "outputs": [
    {
     "name": "stdout",
     "output_type": "stream",
     "text": [
      "[INFO] training network...\n",
      "Train on 711 samples, validate on 237 samples\n",
      "Epoch 1/50\n",
      "711/711 [==============================] - 1s 1ms/step - loss: 1.0295 - accuracy: 0.4768 - val_loss: 0.9404 - val_accuracy: 0.4852\n",
      "Epoch 2/50\n",
      "711/711 [==============================] - 2s 2ms/step - loss: 0.8081 - accuracy: 0.6442 - val_loss: 0.6186 - val_accuracy: 0.7257\n",
      "Epoch 3/50\n",
      "711/711 [==============================] - 1s 1ms/step - loss: 0.6454 - accuracy: 0.7187 - val_loss: 0.5245 - val_accuracy: 0.7975\n",
      "Epoch 4/50\n",
      "711/711 [==============================] - 1s 1ms/step - loss: 0.5733 - accuracy: 0.7553 - val_loss: 0.5342 - val_accuracy: 0.7975\n",
      "Epoch 5/50\n",
      "711/711 [==============================] - 1s 1ms/step - loss: 0.5579 - accuracy: 0.7722 - val_loss: 0.4479 - val_accuracy: 0.8650\n",
      "Epoch 6/50\n",
      "711/711 [==============================] - 1s 1ms/step - loss: 0.4990 - accuracy: 0.8115 - val_loss: 0.4163 - val_accuracy: 0.8692\n",
      "Epoch 7/50\n",
      "711/711 [==============================] - 1s 2ms/step - loss: 0.4416 - accuracy: 0.8678 - val_loss: 0.4508 - val_accuracy: 0.8312\n",
      "Epoch 8/50\n",
      "711/711 [==============================] - 1s 1ms/step - loss: 0.4359 - accuracy: 0.8481 - val_loss: 0.4592 - val_accuracy: 0.7806\n",
      "Epoch 9/50\n",
      "711/711 [==============================] - 1s 1ms/step - loss: 0.4124 - accuracy: 0.8495 - val_loss: 0.3882 - val_accuracy: 0.8439\n",
      "Epoch 10/50\n",
      "711/711 [==============================] - 1s 1ms/step - loss: 0.3663 - accuracy: 0.8790 - val_loss: 0.3767 - val_accuracy: 0.8439\n",
      "Epoch 11/50\n",
      "711/711 [==============================] - 1s 1ms/step - loss: 0.3235 - accuracy: 0.8987 - val_loss: 0.2988 - val_accuracy: 0.8819\n",
      "Epoch 12/50\n",
      "711/711 [==============================] - 1s 1ms/step - loss: 0.3052 - accuracy: 0.9044 - val_loss: 0.2845 - val_accuracy: 0.8945\n",
      "Epoch 13/50\n",
      "711/711 [==============================] - 1s 2ms/step - loss: 0.2919 - accuracy: 0.9001 - val_loss: 0.3479 - val_accuracy: 0.8608\n",
      "Epoch 14/50\n",
      "711/711 [==============================] - 1s 2ms/step - loss: 0.3072 - accuracy: 0.8762 - val_loss: 0.3049 - val_accuracy: 0.8776\n",
      "Epoch 15/50\n",
      "711/711 [==============================] - 1s 1ms/step - loss: 0.2575 - accuracy: 0.9114 - val_loss: 0.2378 - val_accuracy: 0.9030\n",
      "Epoch 16/50\n",
      "711/711 [==============================] - 1s 2ms/step - loss: 0.2362 - accuracy: 0.9226 - val_loss: 0.2503 - val_accuracy: 0.8945\n",
      "Epoch 17/50\n",
      "711/711 [==============================] - 1s 1ms/step - loss: 0.2209 - accuracy: 0.9269 - val_loss: 0.2417 - val_accuracy: 0.8987\n",
      "Epoch 18/50\n",
      "711/711 [==============================] - 2s 2ms/step - loss: 0.2167 - accuracy: 0.9269 - val_loss: 0.2450 - val_accuracy: 0.9283\n",
      "Epoch 19/50\n",
      "711/711 [==============================] - 1s 2ms/step - loss: 0.2044 - accuracy: 0.9367 - val_loss: 0.2422 - val_accuracy: 0.8945\n",
      "Epoch 20/50\n",
      "711/711 [==============================] - 2s 2ms/step - loss: 0.1991 - accuracy: 0.9367 - val_loss: 0.2858 - val_accuracy: 0.8819\n",
      "Epoch 21/50\n",
      "711/711 [==============================] - 2s 2ms/step - loss: 0.2473 - accuracy: 0.9142 - val_loss: 0.2638 - val_accuracy: 0.8776\n",
      "Epoch 22/50\n",
      "711/711 [==============================] - 2s 2ms/step - loss: 0.1913 - accuracy: 0.9395 - val_loss: 0.2293 - val_accuracy: 0.9156\n",
      "Epoch 23/50\n",
      "711/711 [==============================] - 2s 2ms/step - loss: 0.2437 - accuracy: 0.9058 - val_loss: 0.2338 - val_accuracy: 0.9114\n",
      "Epoch 24/50\n",
      "711/711 [==============================] - 2s 2ms/step - loss: 0.1706 - accuracy: 0.9466 - val_loss: 0.2303 - val_accuracy: 0.9072\n",
      "Epoch 25/50\n",
      "711/711 [==============================] - 2s 2ms/step - loss: 0.1698 - accuracy: 0.9466 - val_loss: 0.2181 - val_accuracy: 0.9156\n",
      "Epoch 26/50\n",
      "711/711 [==============================] - 1s 1ms/step - loss: 0.1579 - accuracy: 0.9480 - val_loss: 0.2353 - val_accuracy: 0.9030\n",
      "Epoch 27/50\n",
      "711/711 [==============================] - 1s 974us/step - loss: 0.1522 - accuracy: 0.9466 - val_loss: 0.2234 - val_accuracy: 0.8987\n",
      "Epoch 28/50\n",
      "711/711 [==============================] - 1s 2ms/step - loss: 0.1652 - accuracy: 0.9423 - val_loss: 0.2262 - val_accuracy: 0.8987\n",
      "Epoch 29/50\n",
      "711/711 [==============================] - 1s 2ms/step - loss: 0.1424 - accuracy: 0.9494 - val_loss: 0.2338 - val_accuracy: 0.9114\n",
      "Epoch 30/50\n",
      "711/711 [==============================] - 1s 2ms/step - loss: 0.1592 - accuracy: 0.9437 - val_loss: 0.2526 - val_accuracy: 0.8987\n",
      "Epoch 31/50\n",
      "711/711 [==============================] - 2s 2ms/step - loss: 0.1407 - accuracy: 0.9578 - val_loss: 0.2276 - val_accuracy: 0.9198\n",
      "Epoch 32/50\n",
      "711/711 [==============================] - 1s 1ms/step - loss: 0.1354 - accuracy: 0.9536 - val_loss: 0.2339 - val_accuracy: 0.9114\n",
      "Epoch 33/50\n",
      "711/711 [==============================] - 1s 2ms/step - loss: 0.1200 - accuracy: 0.9620 - val_loss: 0.2065 - val_accuracy: 0.9030\n",
      "Epoch 34/50\n",
      "711/711 [==============================] - 1s 1ms/step - loss: 0.1258 - accuracy: 0.9634 - val_loss: 0.2261 - val_accuracy: 0.9325\n",
      "Epoch 35/50\n",
      "711/711 [==============================] - 3s 4ms/step - loss: 0.1224 - accuracy: 0.9606 - val_loss: 0.2158 - val_accuracy: 0.9198\n",
      "Epoch 36/50\n",
      "711/711 [==============================] - 2s 3ms/step - loss: 0.1142 - accuracy: 0.9634 - val_loss: 0.2688 - val_accuracy: 0.9072\n",
      "Epoch 37/50\n",
      "711/711 [==============================] - 2s 3ms/step - loss: 0.1246 - accuracy: 0.9592 - val_loss: 0.2083 - val_accuracy: 0.9451\n",
      "Epoch 38/50\n",
      "711/711 [==============================] - 3s 4ms/step - loss: 0.1062 - accuracy: 0.9691 - val_loss: 0.2780 - val_accuracy: 0.8945\n",
      "Epoch 39/50\n",
      "711/711 [==============================] - 1s 2ms/step - loss: 0.1414 - accuracy: 0.9508 - val_loss: 0.2077 - val_accuracy: 0.9114\n",
      "Epoch 40/50\n",
      "711/711 [==============================] - 1s 1ms/step - loss: 0.1172 - accuracy: 0.9691 - val_loss: 0.2543 - val_accuracy: 0.8987\n",
      "Epoch 41/50\n",
      "711/711 [==============================] - 1s 2ms/step - loss: 0.1213 - accuracy: 0.9550 - val_loss: 0.2372 - val_accuracy: 0.9072\n",
      "Epoch 42/50\n",
      "711/711 [==============================] - 2s 2ms/step - loss: 0.0926 - accuracy: 0.9662 - val_loss: 0.2365 - val_accuracy: 0.9198\n",
      "Epoch 43/50\n",
      "711/711 [==============================] - 1s 1ms/step - loss: 0.1014 - accuracy: 0.9691 - val_loss: 0.2007 - val_accuracy: 0.9367\n",
      "Epoch 44/50\n",
      "711/711 [==============================] - 2s 2ms/step - loss: 0.0797 - accuracy: 0.9803 - val_loss: 0.2512 - val_accuracy: 0.8987\n",
      "Epoch 45/50\n",
      "711/711 [==============================] - 1s 1ms/step - loss: 0.0839 - accuracy: 0.9691 - val_loss: 0.2164 - val_accuracy: 0.9198\n",
      "Epoch 46/50\n",
      "711/711 [==============================] - 1s 2ms/step - loss: 0.0767 - accuracy: 0.9733 - val_loss: 0.2200 - val_accuracy: 0.9198\n",
      "Epoch 47/50\n",
      "711/711 [==============================] - 1s 2ms/step - loss: 0.0805 - accuracy: 0.9775 - val_loss: 0.2317 - val_accuracy: 0.9198\n",
      "Epoch 48/50\n",
      "711/711 [==============================] - 3s 4ms/step - loss: 0.0873 - accuracy: 0.9719 - val_loss: 0.2481 - val_accuracy: 0.9030\n",
      "Epoch 49/50\n",
      "711/711 [==============================] - 3s 4ms/step - loss: 0.0870 - accuracy: 0.9691 - val_loss: 0.2280 - val_accuracy: 0.9156\n",
      "Epoch 50/50\n",
      "711/711 [==============================] - 3s 4ms/step - loss: 0.0739 - accuracy: 0.9775 - val_loss: 0.3404 - val_accuracy: 0.8819\n",
      "[INFO] evaluating network...\n",
      "             precision    recall  f1-score   support\n",
      "\n",
      "      coast       0.98      0.73      0.84        88\n",
      "     forest       0.97      0.99      0.98        92\n",
      "    highway       0.69      0.95      0.80        57\n",
      "\n",
      "avg / total       0.91      0.88      0.88       237\n",
      "\n"
     ]
    }
   ],
   "source": [
    "\n",
    "# train the model using the Adam optimizer\n",
    "print(\"[INFO] training network...\")\n",
    "opt = Adam(lr=1e-3, decay=1e-3 / 50)\n",
    "model.compile(loss=\"categorical_crossentropy\", optimizer=opt, metrics=[\"accuracy\"])\n",
    "H = model.fit(trainX, trainY, validation_data=(testX, testY), epochs=50, batch_size=32)\n",
    "\n",
    "# evaluate the network\n",
    "print(\"[INFO] evaluating network...\")\n",
    "predictions = model.predict(testX, batch_size=32)\n",
    "print(classification_report(testY.argmax(axis=1), predictions.argmax(axis=1), target_names=lb.classes_))\n"
   ]
  },
  {
   "cell_type": "code",
   "execution_count": null,
   "metadata": {},
   "outputs": [],
   "source": []
  }
 ],
 "metadata": {
  "kernelspec": {
   "display_name": "Python 3",
   "language": "python",
   "name": "python3"
  },
  "language_info": {
   "codemirror_mode": {
    "name": "ipython",
    "version": 3
   },
   "file_extension": ".py",
   "mimetype": "text/x-python",
   "name": "python",
   "nbconvert_exporter": "python",
   "pygments_lexer": "ipython3",
   "version": "3.6.5"
  }
 },
 "nbformat": 4,
 "nbformat_minor": 4
}
