{
 "cells": [
  {
   "cell_type": "markdown",
   "metadata": {},
   "source": [
    "### Program Grayscale"
   ]
  },
  {
   "cell_type": "code",
   "execution_count": null,
   "metadata": {},
   "outputs": [],
   "source": [
    "# Merubah ke gambar putih hitam\n",
    "frame = cv2.cvtColor(frame, cv2.COLOR_RGB2GRAY)\n",
    "# terapkan threshold. semua pixel dengan ukurang lebih dari 80 akan terlihat putih, yang lain akan jadi hitam\n",
    "ret,frame = cv2.threshold(frame,80,255,cv2.THRESH_BINARY)"
   ]
  },
  {
   "cell_type": "markdown",
   "metadata": {},
   "source": [
    "### Program Pengakses an WebCam"
   ]
  },
  {
   "cell_type": "code",
   "execution_count": 1,
   "metadata": {},
   "outputs": [
    {
     "data": {
      "text/plain": [
       "-1"
      ]
     },
     "execution_count": 1,
     "metadata": {},
     "output_type": "execute_result"
    }
   ],
   "source": [
    "import numpy as np\n",
    "import cv2\n",
    "\n",
    "cv2.__file__\n",
    "\n",
    "cv2.startWindowThread()\n",
    "cap = cv2.VideoCapture(0)\n",
    "while(True):\n",
    "    # baca frame\n",
    "    ret, frame = cap.read()\n",
    "\n",
    "    # tampilkan frame webcame\n",
    "    cv2.imshow('frame',frame)\n",
    "    \n",
    "    if cv2.waitKey(1) & 0xFF == ord('q'):\n",
    "        # Apabila di tekan q maka akan ngebreak\n",
    "        break\n",
    "cap.release()\n",
    "cv2.destroyAllWindows()\n",
    "    \n",
    "cv2.waitKey(1)"
   ]
  },
  {
   "cell_type": "markdown",
   "metadata": {},
   "source": [
    "### Program Pengaksesan WebCam dan Penyimpanan Hasil ke Folder Document"
   ]
  },
  {
   "cell_type": "code",
   "execution_count": null,
   "metadata": {},
   "outputs": [],
   "source": [
    "import numpy as np\n",
    "import cv2\n",
    "\n",
    "# Inisialisasi HOG\n",
    "hog = cv2.HOGDescriptor()\n",
    "hog.setSVMDetector(cv2.HOGDescriptor_getDefaultPeopleDetector())\n",
    "\n",
    "# Inisialisasi OpenCV\n",
    "cv2.startWindowThread()\n",
    "\n",
    "cap = cv2.VideoCapture(0)\n",
    "\n",
    "# Menyimpan File rekaman dari webCam\n",
    "out = cv2.VideoWriter('Belajar_Face_Recognition.avi',cv2.VideoWriter_fourcc(*'MJPG'),15.,(640,480))\n",
    "\n",
    "while(True):\n",
    "    # baca frame\n",
    "    ret, frame = cap.read()\n",
    "    # Gambar frame\n",
    "    frame = cv2.resize(frame, (640, 480))\n",
    "    # membuat gambar menjadi hitam putih agar pembacaan lebih cepat\n",
    "    gray = cv2.cvtColor(frame, cv2.COLOR_RGB2GRAY)\n",
    "    # auto pindah kotak ke manusia\n",
    "    boxes, weights = hog.detectMultiScale(frame, winStride=(8,8) )\n",
    "    boxes = np.array([[x, y, x + w, y + h] for (x, y, w, h) in boxes])\n",
    "    for (xA, yA, xB, yB) in boxes:\n",
    "        # Menampilkan kotak untuk ROIs\n",
    "        cv2.rectangle(frame, (xA, yA), (xB, yB),(0, 255, 0), 2)\n",
    "        # tampilkan frame webcame\n",
    "        cv2.imshow('frame',frame)\n",
    "        if cv2.waitKey(1) & 0xFF == ord('q'):\n",
    "            # Apabila di tekan q maka akan ngebreak\n",
    "            break\n",
    "            \n",
    "# Jangan lupa di hentikan proses nya            \n",
    "cap.release()\n",
    "out.release()\n",
    "\n",
    "cv2.destroyAllWindows()\n",
    "    \n",
    "cv2.waitKey(1)\n"
   ]
  },
  {
   "cell_type": "code",
   "execution_count": null,
   "metadata": {},
   "outputs": [],
   "source": []
  }
 ],
 "metadata": {
  "kernelspec": {
   "display_name": "Python 3",
   "language": "python",
   "name": "python3"
  },
  "language_info": {
   "codemirror_mode": {
    "name": "ipython",
    "version": 3
   },
   "file_extension": ".py",
   "mimetype": "text/x-python",
   "name": "python",
   "nbconvert_exporter": "python",
   "pygments_lexer": "ipython3",
   "version": "3.6.5"
  }
 },
 "nbformat": 4,
 "nbformat_minor": 4
}
