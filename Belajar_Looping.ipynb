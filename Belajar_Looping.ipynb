{
 "cells": [
  {
   "cell_type": "code",
   "execution_count": 28,
   "metadata": {},
   "outputs": [],
   "source": [
    "colors = [\"red\" , \"orange\", \"green\", \"purple\", \"blue\"]\n",
    "\n",
    "# looping menggunakan for\n",
    "print(\"Apabila print di taruh di dalam for :\") #perintah print akan menampilkan hasil sesuai dengan looping   \n",
    "for i in range(0,5):\n",
    "    colors[i] = \"black\"\n",
    "    print(colors)\n",
    "    \n",
    "print(\"\\n\")    #New Line / Enter\n",
    "print(\"Apabila tidak di taruh di dalam for :\")    \n",
    "print(colors)\n",
    "\n",
    "#-------------------------------------------------------------------------------\n",
    "\n",
    "colors = [\"red\" , \"orange\", \"green\", \"purple\", \"blue\"]\n",
    "print(\"\\n\")    #New Line / Enter\n",
    "print(\"Loop tulisan agar menjadi kapital :\") \n",
    "for color in colors:\n",
    "    print(color.upper())\n",
    "    \n",
    "#-------------------------------------------------------------------------------\n",
    "\n",
    "colors = [\"red\" , \"orange\", \"green\", \"purple\", \"blue\"]\n",
    "print(\"\\n\")    #New Line / Enter\n",
    "for i, color in enumerate (colors):\n",
    "    print(\"Color \" + str(i) + \" is \" + color)\n",
    "    "
   ]
  },
  {
   "cell_type": "code",
   "execution_count": 30,
   "metadata": {},
   "outputs": [
    {
     "name": "stdout",
     "output_type": "stream",
     "text": [
      "['orange', 'orange', 'orange']\n"
     ]
    }
   ],
   "source": [
    "#Looping menggunakan while\n",
    "\n",
    "# Disini dicoba apabila tidak mendeteksi kata selain orange maka output akan berhenti menampilkan kalimat orange\n",
    "\n",
    "colors  = [\"orange\", \"orange\", \"orange\", \"red\",\"blue\", \"orange\"]\n",
    "oranges = [] #apabila menggunakan while maka harus membuat variabel kosong \n",
    "\n",
    "i = 0 # i nya dimulai dari 0\n",
    "\n",
    "while colors[i] == \"orange\": # selama i mulai dari kalimat yang pertama , \"==\" = harus identik dengan\n",
    "    oranges.append(colors[i]) # append = masukan / tempelkan, orange di taruh di variabel oranges\n",
    "    i = i + 1\n",
    "\n",
    "print(oranges)\n"
   ]
  },
  {
   "cell_type": "code",
   "execution_count": null,
   "metadata": {},
   "outputs": [],
   "source": []
  }
 ],
 "metadata": {
  "kernelspec": {
   "display_name": "Python 3",
   "language": "python",
   "name": "python3"
  },
  "language_info": {
   "codemirror_mode": {
    "name": "ipython",
    "version": 3
   },
   "file_extension": ".py",
   "mimetype": "text/x-python",
   "name": "python",
   "nbconvert_exporter": "python",
   "pygments_lexer": "ipython3",
   "version": "3.7.3"
  }
 },
 "nbformat": 4,
 "nbformat_minor": 4
}
