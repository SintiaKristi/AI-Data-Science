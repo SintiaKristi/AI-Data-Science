{
 "cells": [
  {
   "cell_type": "markdown",
   "metadata": {},
   "source": [
    "# BACA"
   ]
  },
  {
   "cell_type": "code",
   "execution_count": 1,
   "metadata": {},
   "outputs": [
    {
     "name": "stdout",
     "output_type": "stream",
     "text": [
      "Name,Department,Birthday Month,Agung Wicaksono,Pelajar,April,Rexandi,Pekerja,Maret\n",
      "\n",
      "\n"
     ]
    }
   ],
   "source": [
    "file1 = open(\"F:\\Data Agung\\Belajar_AWS_AI\\Python\\Belajar_file.txt\", \"r\")\n",
    "\n",
    "stuff = file1.read()\n",
    "\n",
    "print(stuff)\n"
   ]
  },
  {
   "cell_type": "code",
   "execution_count": 31,
   "metadata": {},
   "outputs": [
    {
     "data": {
      "text/plain": [
       "True"
      ]
     },
     "execution_count": 31,
     "metadata": {},
     "output_type": "execute_result"
    }
   ],
   "source": [
    "file1.closed"
   ]
  },
  {
   "cell_type": "code",
   "execution_count": 26,
   "metadata": {},
   "outputs": [
    {
     "data": {
      "text/plain": [
       "['Cara membuka file',\n",
       " 'Cara membuka file 2',\n",
       " '',\n",
       " 'Cara membuka file 3',\n",
       " '',\n",
       " '',\n",
       " 'Cara membuka file 4']"
      ]
     },
     "execution_count": 26,
     "metadata": {},
     "output_type": "execute_result"
    }
   ],
   "source": [
    "with open (\"F:\\Data Agung\\Belajar_AWS_AI\\Python\\Belajar_file.txt\", \"r\") as file1 :\n",
    "    stuff = file1.read()\n",
    "    \n",
    "lines = stuff.split(\"\\n\")\n",
    "\n",
    "lines\n"
   ]
  },
  {
   "cell_type": "code",
   "execution_count": 30,
   "metadata": {},
   "outputs": [
    {
     "data": {
      "text/plain": [
       "'Cara membuka file\\nCara membuka file 2\\n\\nCara membuka file 3\\n\\n\\nCara membuka file 4'"
      ]
     },
     "execution_count": 30,
     "metadata": {},
     "output_type": "execute_result"
    }
   ],
   "source": [
    "with open (\"F:\\Data Agung\\Belajar_AWS_AI\\Python\\Belajar_file.txt\", \"r\") as file1 :\n",
    "    lines = file1.read()\n",
    "    \n",
    "lines"
   ]
  },
  {
   "cell_type": "code",
   "execution_count": 33,
   "metadata": {},
   "outputs": [
    {
     "name": "stdout",
     "output_type": "stream",
     "text": [
      "Cara membuka file\n",
      "\n",
      "Cara membuka file 2\n",
      "\n"
     ]
    }
   ],
   "source": [
    "with open(\"F:\\Data Agung\\Belajar_AWS_AI\\Python\\Belajar_file.txt\", \"r\") as file1 :\n",
    "    stuff = file1.readline()\n",
    "    print(stuff)\n",
    "    stuff = file1.readline()\n",
    "    print(stuff)"
   ]
  },
  {
   "cell_type": "code",
   "execution_count": 34,
   "metadata": {},
   "outputs": [
    {
     "name": "stdout",
     "output_type": "stream",
     "text": [
      "Cara membuka file\n",
      "\n",
      "Cara membuka file 2\n",
      "\n",
      "\n",
      "\n",
      "Cara membuka file 3\n",
      "\n",
      "\n",
      "\n",
      "\n",
      "\n",
      "Cara membuka file 4\n"
     ]
    }
   ],
   "source": [
    "with open(\"F:\\Data Agung\\Belajar_AWS_AI\\Python\\Belajar_file.txt\", \"r\") as file1 :\n",
    "    for line in file1:\n",
    "        print(line)"
   ]
  },
  {
   "cell_type": "markdown",
   "metadata": {},
   "source": [
    "# TULIS"
   ]
  },
  {
   "cell_type": "code",
   "execution_count": 36,
   "metadata": {},
   "outputs": [],
   "source": [
    "with open(\"F:\\Data Agung\\Belajar_AWS_AI\\Python\\Belajar_file2.txt\", \"w\") as file2 :\n",
    "    file2.write(\"Nama saya adalah ..... 2\\n\")\n",
    "    file2.write(\"Saya tinggal di  ..... 2\\n\")"
   ]
  },
  {
   "cell_type": "code",
   "execution_count": 37,
   "metadata": {},
   "outputs": [
    {
     "data": {
      "text/plain": [
       "['Nama saya adalah ..... 2', 'Saya tinggal di  ..... 2', '']"
      ]
     },
     "execution_count": 37,
     "metadata": {},
     "output_type": "execute_result"
    }
   ],
   "source": [
    "with open (\"F:\\Data Agung\\Belajar_AWS_AI\\Python\\Belajar_file2.txt\", \"r\") as file1 :\n",
    "    stuff = file1.read()\n",
    "    \n",
    "lines = stuff.split(\"\\n\")\n",
    "lines"
   ]
  },
  {
   "cell_type": "code",
   "execution_count": 53,
   "metadata": {},
   "outputs": [],
   "source": [
    "content = [\" Nama saya adalah ..... \\n\" \n",
    "           \" Saya tinggal di ...... \\n\"\n",
    "           \" Saya lahir tahun ..... \\n\"]\n",
    "\n",
    "with open(\"F:\\Data Agung\\Belajar_AWS_AI\\Python\\Belajar_file2.txt\", \"w\") as file2 :\n",
    "    for line in content :\n",
    "        file2.write(line)\n",
    "        \n",
    "with open(\"F:\\Data Agung\\Belajar_AWS_AI\\Python\\Belajar_file2.txt\", \"a\") as file3 :\n",
    "        file3.write(\"Text percobaan dengan cara menimpa\")"
   ]
  },
  {
   "cell_type": "code",
   "execution_count": 54,
   "metadata": {},
   "outputs": [
    {
     "name": "stdout",
     "output_type": "stream",
     "text": [
      " Nama saya adalah ..... \n",
      " Saya tinggal di ...... \n",
      " Saya lahir tahun ..... \n",
      "Text percobaan dengan cara menimpa\n"
     ]
    }
   ],
   "source": [
    "with open (\"F:\\Data Agung\\Belajar_AWS_AI\\Python\\Belajar_file2.txt\", \"r\") as file1 :\n",
    "    stuff = file1.read()\n",
    "    \n",
    "print(stuff)"
   ]
  },
  {
   "cell_type": "markdown",
   "metadata": {},
   "source": [
    "# REPLACE"
   ]
  },
  {
   "cell_type": "code",
   "execution_count": 55,
   "metadata": {},
   "outputs": [],
   "source": [
    "with open (\"F:\\Data Agung\\Belajar_AWS_AI\\Python\\Belajar_file2.txt\", \"r\") as R_File :\n",
    "    with open (\"F:\\Data Agung\\Belajar_AWS_AI\\Python\\Belajar_file3.txt\", \"w\") as W_File :\n",
    "        \n",
    "        for line in R_File :\n",
    "            W_File.write(line)"
   ]
  },
  {
   "cell_type": "code",
   "execution_count": 56,
   "metadata": {},
   "outputs": [
    {
     "name": "stdout",
     "output_type": "stream",
     "text": [
      " Nama saya adalah ..... \n",
      " Saya tinggal di ...... \n",
      " Saya lahir tahun ..... \n",
      "Text percobaan dengan cara menimpa\n"
     ]
    }
   ],
   "source": [
    "with open (\"F:\\Data Agung\\Belajar_AWS_AI\\Python\\Belajar_file3.txt\", \"r\") as file1 :\n",
    "    stuff = file1.read()\n",
    "    \n",
    "print(stuff)"
   ]
  },
  {
   "cell_type": "code",
   "execution_count": null,
   "metadata": {},
   "outputs": [],
   "source": []
  }
 ],
 "metadata": {
  "kernelspec": {
   "display_name": "Python 3",
   "language": "python",
   "name": "python3"
  },
  "language_info": {
   "codemirror_mode": {
    "name": "ipython",
    "version": 3
   },
   "file_extension": ".py",
   "mimetype": "text/x-python",
   "name": "python",
   "nbconvert_exporter": "python",
   "pygments_lexer": "ipython3",
   "version": "3.6.5"
  }
 },
 "nbformat": 4,
 "nbformat_minor": 4
}
