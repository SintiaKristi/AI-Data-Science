{
 "cells": [
  {
   "cell_type": "code",
   "execution_count": 3,
   "metadata": {},
   "outputs": [],
   "source": [
    "import numpy as np\n",
    "import matplotlib.pyplot as plt\n",
    "from matplotlib import style\n",
    "style.use(\"ggplot\")\n",
    "keuntungan = [7000000, 10000000, 750000000, 500000000, 170000000, 700000000, 1400000000 ]\n",
    "laba = [3000000, 40000000, 20000000, 120000000, 50000000, 20000000, 500000000]"
   ]
  },
  {
   "cell_type": "code",
   "execution_count": 25,
   "metadata": {},
   "outputs": [
    {
     "name": "stdout",
     "output_type": "stream",
     "text": [
      "Nilai a adalah -32639573.4893\n",
      "Nilai b adalah -32639573.4893\n"
     ]
    },
    {
     "data": {
      "image/png": "[encoded data removed]",
      "text/plain": [
       "<Figure size 432x288 with 1 Axes>"
      ]
     },
     "metadata": {},
     "output_type": "display_data"
    }
   ],
   "source": [
    "def linearRegresion(data) :\n",
    "    \n",
    "    '''\n",
    "    \n",
    "    indeks[0] -> response variable -> x\n",
    "    indeks[1] -> predictor variable -> y\n",
    "    \n",
    "    '''\n",
    "    \n",
    "    \n",
    "    x2 = []\n",
    "    y2 = []\n",
    "    xy = []\n",
    "    n = len(data[0])\n",
    "    \n",
    "    for x in data[0] :\n",
    "        x2.append(x**2) # x di kuadrat kan dan di masukkan ke x2\n",
    "        \n",
    "    for y in data[0] :\n",
    "        y2.append(y**2) # x di kuadrat kan dan di masukkan ke y2\n",
    "        \n",
    "        i = 0;\n",
    "        \n",
    "        while(i < n):\n",
    "            dump = data[0][i]*data[1][i]\n",
    "            xy.append(dump)\n",
    "            i += 1\n",
    "            \n",
    "        jmlhx = sum(data[0])\n",
    "        jmlhy = sum(data[1])\n",
    "        jmlhx2 = sum(x2)\n",
    "        jmlhy2 = sum(y2)\n",
    "        jmlhxy = sum(xy)\n",
    "        \n",
    "        a = ((jmlhy*jmlhx2)- (jmlhx*jmlhxy)) / (n*jmlhx2-(jmlhx**2))\n",
    "        b = ((n*jmlhxy) - (jmlhx*jmlhy)) / (n*jmlhx2-(jmlhx**2))\n",
    "        \n",
    "        return(a,b)\n",
    "                                                \n",
    "\n",
    "def gambarGrafik(dataProses) :\n",
    "    \n",
    "    a,b = linearRegresion(dataProses)\n",
    "    print(\"Nilai a adalah %.4f\"%(a))\n",
    "    print(\"Nilai b adalah %.4f\"%(a))\n",
    "    \n",
    "    def f1(keanggotaan,a,b):\n",
    "        hit = []\n",
    "        for x in keanggotaan:\n",
    "            y = b*x+a\n",
    "            hit.append(y)\n",
    "        return(hit)\n",
    "    \n",
    "    plt.scatter(dataProses[0],dataProses[1],label = 'data aktual', s=10)\n",
    "    plt.plot(dataProses[0],f1(dataProses[0],a,b),c='k', label = 'hasil regresi without', linewidth = 0.5)\n",
    "    plt.title(\"Hasil Regresi Linear Sederhana\")\n",
    "    plt.ylabel(\"laba\")\n",
    "    plt.xlabel(\"keuntungan\")\n",
    "    plt.legend()\n",
    "    fig = plt.figure(1)\n",
    "    fig.canvas.set_window_title(\"Regresi by Agung\")\n",
    "    plt.show()\n",
    "    \n",
    "        \n",
    "gambarGrafik([keuntungan, laba])"
   ]
  },
  {
   "cell_type": "markdown",
   "metadata": {},
   "source": [
    "# Penjelasan Code\n",
    "\n",
    "### memanggil library numpy dan matplotlib, serta mengganti style default dari plot menjadi tipe ggplot seperti yang berada di bahasa pemrograman R"
   ]
  },
  {
   "cell_type": "code",
   "execution_count": null,
   "metadata": {},
   "outputs": [],
   "source": []
  }
 ],
 "metadata": {
  "kernelspec": {
   "display_name": "Python 3",
   "language": "python",
   "name": "python3"
  },
  "language_info": {
   "codemirror_mode": {
    "name": "ipython",
    "version": 3
   },
   "file_extension": ".py",
   "mimetype": "text/x-python",
   "name": "python",
   "nbconvert_exporter": "python",
   "pygments_lexer": "ipython3",
   "version": "3.6.5"
  }
 },
 "nbformat": 4,
 "nbformat_minor": 4
}
