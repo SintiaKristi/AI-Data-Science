{
 "cells": [
  {
   "cell_type": "code",
   "execution_count": 1,
   "metadata": {},
   "outputs": [
    {
     "name": "stderr",
     "output_type": "stream",
     "text": [
      "C:\\Users\\Agung\\Anaconda3\\lib\\site-packages\\sklearn\\ensemble\\weight_boosting.py:29: DeprecationWarning: numpy.core.umath_tests is an internal NumPy module and should not be imported. It will be removed in a future NumPy release.\n",
      "  from numpy.core.umath_tests import inner1d\n"
     ]
    }
   ],
   "source": [
    "# Classify_iris.py (Importing Method)\n",
    "\n",
    "from sklearn.neighbors import KNeighborsClassifier\n",
    "from sklearn.naive_bayes import GaussianNB\n",
    "from sklearn.linear_model import LogisticRegression\n",
    "from sklearn.svm import SVC\n",
    "from sklearn.tree import DecisionTreeClassifier\n",
    "from sklearn.ensemble import RandomForestClassifier\n",
    "from sklearn.neural_network import MLPClassifier\n",
    "from sklearn.model_selection import train_test_split\n",
    "from sklearn.metrics import classification_report\n",
    "from sklearn.datasets import load_iris"
   ]
  },
  {
   "cell_type": "code",
   "execution_count": 18,
   "metadata": {},
   "outputs": [],
   "source": [
    "# Inisialisasi Models\n",
    "\n",
    "models = {\n",
    "    \"knn\" : KNeighborsClassifier(n_neighbors = 1),\n",
    "    \"naive_bayes\" : GaussianNB(),\n",
    "    \"logit\" : LogisticRegression(solver = \"lbfgs\", multi_class = \"auto\"),\n",
    "    #lbfgs = Limited Memory BFGS (Broyden Fletcher Goldfarb Shanno)\n",
    "    \n",
    "    \"svm\" : SVC(kernel=\"rbf\", gamma=\"auto\"),\n",
    "    # SVC =  Support Vector Machine\n",
    "    # RDF = Radial Basis Function\n",
    "    \n",
    "    \"decision_tree\" : DecisionTreeClassifier(),\n",
    "    \"random_forest\" : RandomForestClassifier(n_estimators = 100),\n",
    "    # Jumlah pohon nya = 100\n",
    "    \n",
    "    \"mlp\" : MLPClassifier()\n",
    "}"
   ]
  },
  {
   "cell_type": "code",
   "execution_count": 5,
   "metadata": {},
   "outputs": [
    {
     "name": "stdout",
     "output_type": "stream",
     "text": [
      "[INFO] loading data .....\n"
     ]
    }
   ],
   "source": [
    "#Load and Split data\n",
    "print (\"[INFO] loading data .....\")\n",
    "dataset = load_iris()\n",
    "(trainX, testX, trainY, testY) = train_test_split(dataset.data, dataset.target, random_state = 3, test_size = 0.25)"
   ]
  },
  {
   "cell_type": "code",
   "execution_count": 16,
   "metadata": {},
   "outputs": [
    {
     "name": "stdout",
     "output_type": "stream",
     "text": [
      "[INFO] using 'knn' model \n",
      "[INFO] evaluating...\n",
      "              precision    recall  f1-score   support\n",
      "\n",
      "      setosa       1.00      1.00      1.00        15\n",
      "  versicolor       0.92      0.92      0.92        12\n",
      "   virginica       0.91      0.91      0.91        11\n",
      "\n",
      "    accuracy                           0.95        38\n",
      "   macro avg       0.94      0.94      0.94        38\n",
      "weighted avg       0.95      0.95      0.95        38\n",
      "\n"
     ]
    }
   ],
   "source": [
    "#Train and Evaluate Model\n",
    "# Model : knn , naive_bayes, logit, svm, decision_tree, random_forest, mlp\n",
    "\n",
    "print(\"[INFO] using '{}' model \".format(\"knn\")) \n",
    "                                             #^^^^^^ replace model with the name of the model you want                                             \n",
    "model = models[\"knn\"]\n",
    "                    #^^^^^^ replace model with the name of the model you want\n",
    "model.fit(trainX, trainY)\n",
    "\n",
    "print(\"[INFO] evaluating...\")\n",
    "predictions = model.predict(testX)\n",
    "print(classification_report(testY, predictions, target_names = dataset.target_names))\n"
   ]
  },
  {
   "cell_type": "markdown",
   "metadata": {},
   "source": [
    "# Rangkuman KNN\n",
    "\n",
    "#### FN (False Negative)\n",
    "#### TN (True Negative)\n",
    "\n",
    "#### TP (True Positive)\n",
    "####  FP (False Positive)\n",
    "\n",
    "                Predicted       Class\n",
    "                  YES            NO\n",
    "Actual - YES      TP             FN\n",
    "Class  - No       FP             TN\n",
    "\n",
    "$$\n",
    "Accuracy = \\frac{TP + TN}{TP + FP + FN + TN}   \n",
    "$$\n",
    "\n",
    "\n",
    "$$\n",
    "Precision = \\frac{TP}{TP + FP}   \n",
    "$$\n",
    "\n",
    "$$\n",
    "Recall (Sensitivity) = \\frac{TP}{TP + FN}   \n",
    "$$\n",
    "\n",
    "$$\n",
    "F1 - Score = \\frac{2 x (Recall x Precission)}{Recall + precesion}   \n",
    "$$\n",
    "\n",
    "$$\n",
    "Micro Average (Pr) = \\frac{Precission [Data] }{Jumlah Data}  \n",
    "$$\n",
    "\n",
    "$$\n",
    "Macro Average (Pr) = \\frac{TP [Data] }{TP + FP [Data]}  \n",
    "$$"
   ]
  },
  {
   "cell_type": "code",
   "execution_count": 20,
   "metadata": {},
   "outputs": [
    {
     "name": "stdout",
     "output_type": "stream",
     "text": [
      "[INFO] using 'naive_bayes' model \n",
      "[INFO] evaluating...\n",
      "              precision    recall  f1-score   support\n",
      "\n",
      "      setosa       1.00      1.00      1.00        15\n",
      "  versicolor       1.00      0.92      0.96        12\n",
      "   virginica       0.92      1.00      0.96        11\n",
      "\n",
      "    accuracy                           0.97        38\n",
      "   macro avg       0.97      0.97      0.97        38\n",
      "weighted avg       0.98      0.97      0.97        38\n",
      "\n"
     ]
    }
   ],
   "source": [
    "#Train and Evaluate Model\n",
    "# Model : knn , naive_bayes, logit, svm, decision_tree, random_forest, mlp\n",
    "\n",
    "print(\"[INFO] using '{}' model \".format(\"naive_bayes\")) \n",
    "                                             #^^^^^^ replace model with the name of the model you want                                             \n",
    "model = models[\"naive_bayes\"]\n",
    "                    #^^^^^^ replace model with the name of the model you want\n",
    "model.fit(trainX, trainY)\n",
    "\n",
    "print(\"[INFO] evaluating...\")\n",
    "predictions = model.predict(testX)\n",
    "print(classification_report(testY, predictions, target_names = dataset.target_names))\n"
   ]
  },
  {
   "cell_type": "code",
   "execution_count": 21,
   "metadata": {},
   "outputs": [
    {
     "name": "stdout",
     "output_type": "stream",
     "text": [
      "[INFO] using 'logit' model \n",
      "[INFO] evaluating...\n",
      "              precision    recall  f1-score   support\n",
      "\n",
      "      setosa       1.00      1.00      1.00        15\n",
      "  versicolor       1.00      0.92      0.96        12\n",
      "   virginica       0.92      1.00      0.96        11\n",
      "\n",
      "    accuracy                           0.97        38\n",
      "   macro avg       0.97      0.97      0.97        38\n",
      "weighted avg       0.98      0.97      0.97        38\n",
      "\n"
     ]
    }
   ],
   "source": [
    "#Train and Evaluate Model\n",
    "# Model : knn , naive_bayes, logit, svm, decision_tree, random_forest, mlp\n",
    "\n",
    "print(\"[INFO] using '{}' model \".format(\"logit\")) \n",
    "                                             #^^^^^^ replace model with the name of the model you want                                             \n",
    "model = models[\"logit\"]\n",
    "                    #^^^^^^ replace model with the name of the model you want\n",
    "model.fit(trainX, trainY)\n",
    "\n",
    "print(\"[INFO] evaluating...\")\n",
    "predictions = model.predict(testX)\n",
    "print(classification_report(testY, predictions, target_names = dataset.target_names))\n"
   ]
  },
  {
   "cell_type": "code",
   "execution_count": 22,
   "metadata": {},
   "outputs": [
    {
     "name": "stdout",
     "output_type": "stream",
     "text": [
      "[INFO] using 'svm' model \n",
      "[INFO] evaluating...\n",
      "              precision    recall  f1-score   support\n",
      "\n",
      "      setosa       1.00      1.00      1.00        15\n",
      "  versicolor       1.00      0.92      0.96        12\n",
      "   virginica       0.92      1.00      0.96        11\n",
      "\n",
      "    accuracy                           0.97        38\n",
      "   macro avg       0.97      0.97      0.97        38\n",
      "weighted avg       0.98      0.97      0.97        38\n",
      "\n"
     ]
    }
   ],
   "source": [
    "#Train and Evaluate Model\n",
    "# Model : knn , naive_bayes, logit, svm, decision_tree, random_forest, mlp\n",
    "\n",
    "print(\"[INFO] using '{}' model \".format(\"svm\")) \n",
    "                                             #^^^^^^ replace model with the name of the model you want                                             \n",
    "model = models[\"svm\"]\n",
    "                    #^^^^^^ replace model with the name of the model you want\n",
    "model.fit(trainX, trainY)\n",
    "\n",
    "print(\"[INFO] evaluating...\")\n",
    "predictions = model.predict(testX)\n",
    "print(classification_report(testY, predictions, target_names = dataset.target_names))\n"
   ]
  },
  {
   "cell_type": "code",
   "execution_count": 26,
   "metadata": {},
   "outputs": [
    {
     "name": "stdout",
     "output_type": "stream",
     "text": [
      "[INFO] using 'decision_tree' model \n",
      "[INFO] evaluating...\n",
      "              precision    recall  f1-score   support\n",
      "\n",
      "      setosa       1.00      1.00      1.00        15\n",
      "  versicolor       1.00      0.92      0.96        12\n",
      "   virginica       0.92      1.00      0.96        11\n",
      "\n",
      "    accuracy                           0.97        38\n",
      "   macro avg       0.97      0.97      0.97        38\n",
      "weighted avg       0.98      0.97      0.97        38\n",
      "\n"
     ]
    }
   ],
   "source": [
    "#Train and Evaluate Model\n",
    "# Model : knn , naive_bayes, logit, svm, decision_tree, random_forest, mlp\n",
    "\n",
    "print(\"[INFO] using '{}' model \".format(\"decision_tree\")) \n",
    "                                             #^^^^^^ replace model with the name of the model you want                                             \n",
    "model = models[\"decision_tree\"]\n",
    "                    #^^^^^^ replace model with the name of the model you want\n",
    "model.fit(trainX, trainY)\n",
    "\n",
    "print(\"[INFO] evaluating...\")\n",
    "predictions = model.predict(testX)\n",
    "print(classification_report(testY, predictions, target_names = dataset.target_names))\n"
   ]
  },
  {
   "cell_type": "code",
   "execution_count": 32,
   "metadata": {},
   "outputs": [
    {
     "name": "stdout",
     "output_type": "stream",
     "text": [
      "[INFO] using 'random_forest' model \n",
      "[INFO] evaluating...\n",
      "              precision    recall  f1-score   support\n",
      "\n",
      "      setosa       1.00      1.00      1.00        15\n",
      "  versicolor       1.00      0.92      0.96        12\n",
      "   virginica       0.92      1.00      0.96        11\n",
      "\n",
      "    accuracy                           0.97        38\n",
      "   macro avg       0.97      0.97      0.97        38\n",
      "weighted avg       0.98      0.97      0.97        38\n",
      "\n"
     ]
    }
   ],
   "source": [
    "#Train and Evaluate Model\n",
    "# Model : knn , naive_bayes, logit, svm, decision_tree, random_forest, mlp\n",
    "\n",
    "print(\"[INFO] using '{}' model \".format(\"random_forest\")) \n",
    "                                             #^^^^^^ replace model with the name of the model you want                                             \n",
    "model = models[\"random_forest\"]\n",
    "                    #^^^^^^ replace model with the name of the model you want\n",
    "model.fit(trainX, trainY)\n",
    "\n",
    "print(\"[INFO] evaluating...\")\n",
    "predictions = model.predict(testX)\n",
    "print(classification_report(testY, predictions, target_names = dataset.target_names))\n"
   ]
  },
  {
   "cell_type": "code",
   "execution_count": 33,
   "metadata": {},
   "outputs": [
    {
     "name": "stdout",
     "output_type": "stream",
     "text": [
      "[INFO] using 'mlp' model \n",
      "[INFO] evaluating...\n",
      "              precision    recall  f1-score   support\n",
      "\n",
      "      setosa       1.00      1.00      1.00        15\n",
      "  versicolor       1.00      0.92      0.96        12\n",
      "   virginica       0.92      1.00      0.96        11\n",
      "\n",
      "    accuracy                           0.97        38\n",
      "   macro avg       0.97      0.97      0.97        38\n",
      "weighted avg       0.98      0.97      0.97        38\n",
      "\n"
     ]
    },
    {
     "name": "stderr",
     "output_type": "stream",
     "text": [
      "C:\\Users\\Agung\\Anaconda3\\lib\\site-packages\\sklearn\\neural_network\\multilayer_perceptron.py:566: ConvergenceWarning: Stochastic Optimizer: Maximum iterations (200) reached and the optimization hasn't converged yet.\n",
      "  % self.max_iter, ConvergenceWarning)\n"
     ]
    }
   ],
   "source": [
    "#Train and Evaluate Model\n",
    "# Model : knn , naive_bayes, logit, svm, decision_tree, random_forest, mlp\n",
    "\n",
    "print(\"[INFO] using '{}' model \".format(\"mlp\")) \n",
    "                                             #^^^^^^ replace model with the name of the model you want                                             \n",
    "model = models[\"mlp\"]\n",
    "                    #^^^^^^ replace model with the name of the model you want\n",
    "model.fit(trainX, trainY)\n",
    "\n",
    "print(\"[INFO] evaluating...\")\n",
    "predictions = model.predict(testX)\n",
    "print(classification_report(testY, predictions, target_names = dataset.target_names))\n"
   ]
  },
  {
   "cell_type": "code",
   "execution_count": null,
   "metadata": {},
   "outputs": [],
   "source": []
  }
 ],
 "metadata": {
  "kernelspec": {
   "display_name": "Python 3",
   "language": "python",
   "name": "python3"
  },
  "language_info": {
   "codemirror_mode": {
    "name": "ipython",
    "version": 3
   },
   "file_extension": ".py",
   "mimetype": "text/x-python",
   "name": "python",
   "nbconvert_exporter": "python",
   "pygments_lexer": "ipython3",
   "version": "3.6.5"
  }
 },
 "nbformat": 4,
 "nbformat_minor": 4
}
