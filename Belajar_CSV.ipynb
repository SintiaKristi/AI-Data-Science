{
 "cells": [
  {
   "cell_type": "code",
   "execution_count": 22,
   "metadata": {},
   "outputs": [
    {
     "name": "stdout",
     "output_type": "stream",
     "text": [
      "Column names are(\", \".join(row))\n",
      "\tAgung Wicaksono works in the Robotic department, and was born in April.\n",
      "\tRexandi works in the Sensor and Actuator department, and was born in Maret.\n",
      "Processed3 lines.\n"
     ]
    }
   ],
   "source": [
    "import csv\n",
    "\n",
    "with open(\"F:\\Data Agung\\Belajar_AWS_AI\\Python\\Belajar_Birthday.txt\") as csv_file :\n",
    "    csv_reader = csv.reader(csv_file,delimiter=',')\n",
    "    line_count = 0\n",
    "    for row in csv_reader :\n",
    "        if line_count == 0:\n",
    "            print(f'Column names are(\", \".join(row))')\n",
    "            line_count += 1\n",
    "        else :\n",
    "            print(f'\\t{row[0]} works in the {row[1]} department, and was born in {row[2]}.')\n",
    "            line_count += 1\n",
    "    print(f'Processed{line_count} lines.')\n",
    "                  "
   ]
  },
  {
   "cell_type": "code",
   "execution_count": 21,
   "metadata": {},
   "outputs": [
    {
     "name": "stdout",
     "output_type": "stream",
     "text": [
      "Column names are(\", \".join(row))\n",
      "\tAgung Wicaksono works in the Robotic department, and was born in April.\n",
      "\tRexandi works in the Sensor and Actuator department, and was born in Maret.\n",
      "Processed3 lines.\n"
     ]
    }
   ],
   "source": [
    "import csv\n",
    "\n",
    "with open(\"F:\\Data Agung\\Belajar_AWS_AI\\Python\\Belajar_Birthday.txt\", mode ='r') as csv_file :\n",
    "    csv_reader = csv.DictReader(csv_file)\n",
    "    line_count = 0\n",
    "    for row in csv_reader :\n",
    "        if line_count == 0:\n",
    "            print(f'Column names are(\", \".join(row))')\n",
    "            line_count += 1\n",
    "\n",
    "        print(f'\\t{row[\"Name\"]} works in the {row[\"Department\"]} department, and was born in {row[\"Birthday Month\"]}.')\n",
    "        line_count += 1\n",
    "    \n",
    "    print(f'Processed{line_count} lines.')              "
   ]
  },
  {
   "cell_type": "code",
   "execution_count": null,
   "metadata": {},
   "outputs": [],
   "source": []
  }
 ],
 "metadata": {
  "kernelspec": {
   "display_name": "Python 3",
   "language": "python",
   "name": "python3"
  },
  "language_info": {
   "codemirror_mode": {
    "name": "ipython",
    "version": 3
   },
   "file_extension": ".py",
   "mimetype": "text/x-python",
   "name": "python",
   "nbconvert_exporter": "python",
   "pygments_lexer": "ipython3",
   "version": "3.7.3"
  }
 },
 "nbformat": 4,
 "nbformat_minor": 4
}
