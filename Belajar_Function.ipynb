{
 "cells": [
  {
   "cell_type": "code",
   "execution_count": 31,
   "metadata": {},
   "outputs": [
    {
     "name": "stdout",
     "output_type": "stream",
     "text": [
      "DKI Jakarta\n"
     ]
    },
    {
     "data": {
      "text/plain": [
       "'DKI Jakarta'"
      ]
     },
     "execution_count": 31,
     "metadata": {},
     "output_type": "execute_result"
    }
   ],
   "source": [
    "def jakarta():\n",
    "\n",
    "    print(\"DKI Jakarta\")\n",
    "    \n",
    "jakarta()"
   ]
  },
  {
   "cell_type": "code",
   "execution_count": 29,
   "metadata": {},
   "outputs": [
    {
     "name": "stdout",
     "output_type": "stream",
     "text": [
      "None\n"
     ]
    }
   ],
   "source": [
    "def no_work():\n",
    "    pass\n",
    "\n",
    "print(no_work())"
   ]
  },
  {
   "cell_type": "code",
   "execution_count": 34,
   "metadata": {},
   "outputs": [
    {
     "name": "stdout",
     "output_type": "stream",
     "text": [
      "For index 0 the corresponding value is 8.7\n",
      "For index 1 the corresponding value is 9.5\n",
      "For index 2 the corresponding value is 6\n"
     ]
    }
   ],
   "source": [
    "def print_enumeration(collection):\n",
    "    \n",
    "    for i, val in enumerate (collection):\n",
    "        print(\"For index\", i, \"the corresponding value is\", val)\n",
    "\n",
    "numbers = [8.7, 9.5, 6]\n",
    "print_enumeration(numbers)\n"
   ]
  },
  {
   "cell_type": "code",
   "execution_count": 40,
   "metadata": {},
   "outputs": [
    {
     "name": "stdout",
     "output_type": "stream",
     "text": [
      "10\n",
      "20\n",
      "4\n",
      "0\n"
     ]
    }
   ],
   "source": [
    "#Collecting Arguments\n",
    "\n",
    "# Argument Penjumlahan\n",
    "def add_many_numbers(*numbers):\n",
    "    a = 0\n",
    "    for n in numbers:\n",
    "        a = a + n\n",
    "        \n",
    "    return a\n",
    "\n",
    "Hasil1 = add_many_numbers(3,7)\n",
    "print(\"Hasil = \" , Hasil1)\n",
    "Hasil2 = add_many_numbers(5,7,8)\n",
    "print(Hasil2)\n",
    "Hasil3 = add_many_numbers(4)\n",
    "print(Hasil3)\n",
    "Hasil4 = add_many_numbers()\n",
    "print(Hasil4)\n",
    "\n",
    "# Argument Pengurangan"
   ]
  },
  {
   "cell_type": "code",
   "execution_count": 3,
   "metadata": {},
   "outputs": [
    {
     "name": "stdout",
     "output_type": "stream",
     "text": [
      "30\n",
      "15\n",
      "46\n",
      "23\n"
     ]
    }
   ],
   "source": [
    "#Perbedaan di berikan function / definition(def)\n",
    "\n",
    "x = 30\n",
    "\n",
    "print(x)\n",
    "\n",
    "if x % 2 == 0:\n",
    "    y = x //2\n",
    "else :\n",
    "    y = 3 * x + 1\n",
    "    \n",
    "z = y\n",
    "print(z)\n",
    "\n",
    "if z % 2 == 0:\n",
    "    y = z //2\n",
    "else :\n",
    "    y = 3 * z + 1\n",
    "    \n",
    "u = y\n",
    "print(u)\n",
    "\n",
    "if u % 2 == 0:\n",
    "    y = u //2\n",
    "else :\n",
    "    y = 3 * u + 1\n",
    "    \n",
    "w = y\n",
    "print(w)"
   ]
  },
  {
   "cell_type": "code",
   "execution_count": 35,
   "metadata": {},
   "outputs": [
    {
     "name": "stdout",
     "output_type": "stream",
     "text": [
      "30\n",
      "15\n",
      "46\n",
      "23\n"
     ]
    }
   ],
   "source": [
    "# Bisa di singkat dengan cara :\n",
    "\n",
    "def func(a):\n",
    "    \"\"\"return a/2 if a is even and 3a _ 1 if a is odd\"\"\"\n",
    "    if a % 2 == 0:\n",
    "        b = a // 2\n",
    "    else:\n",
    "        b = 3 * a + 1\n",
    "        \n",
    "    return b\n",
    "\n",
    "x = 30\n",
    "print(x)\n",
    "\n",
    "z = func(x)\n",
    "print(z)\n",
    "\n",
    "u = func(z)\n",
    "print(u)\n",
    "\n",
    "w = func(u)\n",
    "print(w)"
   ]
  },
  {
   "cell_type": "code",
   "execution_count": 27,
   "metadata": {},
   "outputs": [
    {
     "data": {
      "text/plain": [
       "28"
      ]
     },
     "execution_count": 27,
     "metadata": {},
     "output_type": "execute_result"
    }
   ],
   "source": [
    "def my_mult(arg1, arg2):\n",
    "    c = arg1 * arg2\n",
    "    return c\n",
    "\n",
    "my_mult(4,7)"
   ]
  },
  {
   "cell_type": "code",
   "execution_count": 26,
   "metadata": {},
   "outputs": [
    {
     "data": {
      "text/plain": [
       "21.98"
      ]
     },
     "execution_count": 26,
     "metadata": {},
     "output_type": "execute_result"
    }
   ],
   "source": [
    "my_mult(7,3.14)"
   ]
  },
  {
   "cell_type": "code",
   "execution_count": 25,
   "metadata": {},
   "outputs": [
    {
     "data": {
      "text/plain": [
       "'SurabayaSurabayaSurabaya'"
      ]
     },
     "execution_count": 25,
     "metadata": {},
     "output_type": "execute_result"
    }
   ],
   "source": [
    "my_mult(3, \"Surabaya\")"
   ]
  },
  {
   "cell_type": "code",
   "execution_count": 13,
   "metadata": {},
   "outputs": [],
   "source": [
    "grades = [55, 99, 67, 26, 90, 70, 71, 55]\n",
    "\n",
    "len(grades)\n",
    "sum(grades)\n",
    "sorted_grades = sorted(grades)"
   ]
  },
  {
   "cell_type": "code",
   "execution_count": null,
   "metadata": {},
   "outputs": [],
   "source": []
  }
 ],
 "metadata": {
  "kernelspec": {
   "display_name": "Python 3",
   "language": "python",
   "name": "python3"
  },
  "language_info": {
   "codemirror_mode": {
    "name": "ipython",
    "version": 3
   },
   "file_extension": ".py",
   "mimetype": "text/x-python",
   "name": "python",
   "nbconvert_exporter": "python",
   "pygments_lexer": "ipython3",
   "version": "3.6.5"
  }
 },
 "nbformat": 4,
 "nbformat_minor": 4
}
