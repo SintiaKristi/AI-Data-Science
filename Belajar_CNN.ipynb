{
 "cells": [
  {
   "cell_type": "code",
   "execution_count": 1,
   "metadata": {},
   "outputs": [
    {
     "name": "stdout",
     "output_type": "stream",
     "text": [
      "Automatically created module for IPython interactive environment\n",
      "\n",
      " learning on dataset iris\n",
      "Training : constant learning-rate\n"
     ]
    },
    {
     "name": "stderr",
     "output_type": "stream",
     "text": [
      "C:\\Users\\Agung\\Anaconda3\\lib\\site-packages\\sklearn\\neural_network\\multilayer_perceptron.py:566: ConvergenceWarning: Stochastic Optimizer: Maximum iterations (400) reached and the optimization hasn't converged yet.\n",
      "  % self.max_iter, ConvergenceWarning)\n"
     ]
    },
    {
     "name": "stdout",
     "output_type": "stream",
     "text": [
      "Training set Score : 0.980000\n",
      "Training set loss : 0.096950\n",
      "Training : constant with momentum\n",
      "Training set Score : 0.980000\n",
      "Training set loss : 0.049530\n",
      "Training : constant with Nesterov's momentum\n",
      "Training set Score : 0.980000\n",
      "Training set loss : 0.049540\n",
      "Training : inv-scaling learning-rate\n",
      "Training set Score : 0.360000\n",
      "Training set loss : 0.978444\n",
      "Training : inv-scaling with momentum\n"
     ]
    },
    {
     "name": "stderr",
     "output_type": "stream",
     "text": [
      "C:\\Users\\Agung\\Anaconda3\\lib\\site-packages\\sklearn\\neural_network\\multilayer_perceptron.py:566: ConvergenceWarning: Stochastic Optimizer: Maximum iterations (400) reached and the optimization hasn't converged yet.\n",
      "  % self.max_iter, ConvergenceWarning)\n"
     ]
    },
    {
     "name": "stdout",
     "output_type": "stream",
     "text": [
      "Training set Score : 0.860000\n",
      "Training set loss : 0.504185\n",
      "Training : inv-scaling with Nesterov\n"
     ]
    },
    {
     "name": "stderr",
     "output_type": "stream",
     "text": [
      "C:\\Users\\Agung\\Anaconda3\\lib\\site-packages\\sklearn\\neural_network\\multilayer_perceptron.py:566: ConvergenceWarning: Stochastic Optimizer: Maximum iterations (400) reached and the optimization hasn't converged yet.\n",
      "  % self.max_iter, ConvergenceWarning)\n"
     ]
    },
    {
     "name": "stdout",
     "output_type": "stream",
     "text": [
      "Training set Score : 0.860000\n",
      "Training set loss : 0.503452\n",
      "Training : adam\n",
      "Training set Score : 0.980000\n",
      "Training set loss : 0.045311\n",
      "\n",
      " learning on dataset digits\n",
      "Training : constant learning-rate\n"
     ]
    },
    {
     "name": "stderr",
     "output_type": "stream",
     "text": [
      "C:\\Users\\Agung\\Anaconda3\\lib\\site-packages\\sklearn\\neural_network\\multilayer_perceptron.py:566: ConvergenceWarning: Stochastic Optimizer: Maximum iterations (15) reached and the optimization hasn't converged yet.\n",
      "  % self.max_iter, ConvergenceWarning)\n"
     ]
    },
    {
     "name": "stdout",
     "output_type": "stream",
     "text": [
      "Training set Score : 0.956038\n",
      "Training set loss : 0.243802\n",
      "Training : constant with momentum\n"
     ]
    },
    {
     "name": "stderr",
     "output_type": "stream",
     "text": [
      "C:\\Users\\Agung\\Anaconda3\\lib\\site-packages\\sklearn\\neural_network\\multilayer_perceptron.py:566: ConvergenceWarning: Stochastic Optimizer: Maximum iterations (15) reached and the optimization hasn't converged yet.\n",
      "  % self.max_iter, ConvergenceWarning)\n"
     ]
    },
    {
     "name": "stdout",
     "output_type": "stream",
     "text": [
      "Training set Score : 0.992766\n",
      "Training set loss : 0.041297\n",
      "Training : constant with Nesterov's momentum\n"
     ]
    },
    {
     "name": "stderr",
     "output_type": "stream",
     "text": [
      "C:\\Users\\Agung\\Anaconda3\\lib\\site-packages\\sklearn\\neural_network\\multilayer_perceptron.py:566: ConvergenceWarning: Stochastic Optimizer: Maximum iterations (15) reached and the optimization hasn't converged yet.\n",
      "  % self.max_iter, ConvergenceWarning)\n"
     ]
    },
    {
     "name": "stdout",
     "output_type": "stream",
     "text": [
      "Training set Score : 0.993879\n",
      "Training set loss : 0.042898\n",
      "Training : inv-scaling learning-rate\n"
     ]
    },
    {
     "name": "stderr",
     "output_type": "stream",
     "text": [
      "C:\\Users\\Agung\\Anaconda3\\lib\\site-packages\\sklearn\\neural_network\\multilayer_perceptron.py:566: ConvergenceWarning: Stochastic Optimizer: Maximum iterations (15) reached and the optimization hasn't converged yet.\n",
      "  % self.max_iter, ConvergenceWarning)\n"
     ]
    },
    {
     "name": "stdout",
     "output_type": "stream",
     "text": [
      "Training set Score : 0.638843\n",
      "Training set loss : 1.855465\n",
      "Training : inv-scaling with momentum\n"
     ]
    },
    {
     "name": "stderr",
     "output_type": "stream",
     "text": [
      "C:\\Users\\Agung\\Anaconda3\\lib\\site-packages\\sklearn\\neural_network\\multilayer_perceptron.py:566: ConvergenceWarning: Stochastic Optimizer: Maximum iterations (15) reached and the optimization hasn't converged yet.\n",
      "  % self.max_iter, ConvergenceWarning)\n"
     ]
    },
    {
     "name": "stdout",
     "output_type": "stream",
     "text": [
      "Training set Score : 0.909293\n",
      "Training set loss : 0.318387\n",
      "Training : inv-scaling with Nesterov\n"
     ]
    },
    {
     "name": "stderr",
     "output_type": "stream",
     "text": [
      "C:\\Users\\Agung\\Anaconda3\\lib\\site-packages\\sklearn\\neural_network\\multilayer_perceptron.py:566: ConvergenceWarning: Stochastic Optimizer: Maximum iterations (15) reached and the optimization hasn't converged yet.\n",
      "  % self.max_iter, ConvergenceWarning)\n"
     ]
    },
    {
     "name": "stdout",
     "output_type": "stream",
     "text": [
      "Training set Score : 0.912632\n",
      "Training set loss : 0.290584\n",
      "Training : adam\n"
     ]
    },
    {
     "name": "stderr",
     "output_type": "stream",
     "text": [
      "C:\\Users\\Agung\\Anaconda3\\lib\\site-packages\\sklearn\\neural_network\\multilayer_perceptron.py:566: ConvergenceWarning: Stochastic Optimizer: Maximum iterations (15) reached and the optimization hasn't converged yet.\n",
      "  % self.max_iter, ConvergenceWarning)\n"
     ]
    },
    {
     "name": "stdout",
     "output_type": "stream",
     "text": [
      "Training set Score : 0.991653\n",
      "Training set loss : 0.045934\n",
      "\n",
      " learning on dataset circles\n",
      "Training : constant learning-rate\n"
     ]
    },
    {
     "name": "stderr",
     "output_type": "stream",
     "text": [
      "C:\\Users\\Agung\\Anaconda3\\lib\\site-packages\\sklearn\\neural_network\\multilayer_perceptron.py:566: ConvergenceWarning: Stochastic Optimizer: Maximum iterations (400) reached and the optimization hasn't converged yet.\n",
      "  % self.max_iter, ConvergenceWarning)\n"
     ]
    },
    {
     "name": "stdout",
     "output_type": "stream",
     "text": [
      "Training set Score : 0.840000\n",
      "Training set loss : 0.601052\n",
      "Training : constant with momentum\n"
     ]
    },
    {
     "name": "stderr",
     "output_type": "stream",
     "text": [
      "C:\\Users\\Agung\\Anaconda3\\lib\\site-packages\\sklearn\\neural_network\\multilayer_perceptron.py:566: ConvergenceWarning: Stochastic Optimizer: Maximum iterations (400) reached and the optimization hasn't converged yet.\n",
      "  % self.max_iter, ConvergenceWarning)\n"
     ]
    },
    {
     "name": "stdout",
     "output_type": "stream",
     "text": [
      "Training set Score : 0.940000\n",
      "Training set loss : 0.157334\n",
      "Training : constant with Nesterov's momentum\n"
     ]
    },
    {
     "name": "stderr",
     "output_type": "stream",
     "text": [
      "C:\\Users\\Agung\\Anaconda3\\lib\\site-packages\\sklearn\\neural_network\\multilayer_perceptron.py:566: ConvergenceWarning: Stochastic Optimizer: Maximum iterations (400) reached and the optimization hasn't converged yet.\n",
      "  % self.max_iter, ConvergenceWarning)\n"
     ]
    },
    {
     "name": "stdout",
     "output_type": "stream",
     "text": [
      "Training set Score : 0.940000\n",
      "Training set loss : 0.154453\n",
      "Training : inv-scaling learning-rate\n",
      "Training set Score : 0.500000\n",
      "Training set loss : 0.692470\n",
      "Training : inv-scaling with momentum\n",
      "Training set Score : 0.500000\n",
      "Training set loss : 0.689751\n",
      "Training : inv-scaling with Nesterov\n",
      "Training set Score : 0.500000\n",
      "Training set loss : 0.689143\n",
      "Training : adam\n",
      "Training set Score : 0.940000\n",
      "Training set loss : 0.150527\n",
      "\n",
      " learning on dataset moons\n",
      "Training : constant learning-rate\n",
      "Training set Score : 0.850000\n",
      "Training set loss : 0.341523\n",
      "Training : constant with momentum\n",
      "Training set Score : 0.850000\n",
      "Training set loss : 0.336188\n",
      "Training : constant with Nesterov's momentum\n",
      "Training set Score : 0.850000\n",
      "Training set loss : 0.335919\n",
      "Training : inv-scaling learning-rate\n",
      "Training set Score : 0.500000\n",
      "Training set loss : 0.689015\n",
      "Training : inv-scaling with momentum\n"
     ]
    },
    {
     "name": "stderr",
     "output_type": "stream",
     "text": [
      "C:\\Users\\Agung\\Anaconda3\\lib\\site-packages\\sklearn\\neural_network\\multilayer_perceptron.py:566: ConvergenceWarning: Stochastic Optimizer: Maximum iterations (400) reached and the optimization hasn't converged yet.\n",
      "  % self.max_iter, ConvergenceWarning)\n"
     ]
    },
    {
     "name": "stdout",
     "output_type": "stream",
     "text": [
      "Training set Score : 0.830000\n",
      "Training set loss : 0.513034\n",
      "Training : inv-scaling with Nesterov\n"
     ]
    },
    {
     "name": "stderr",
     "output_type": "stream",
     "text": [
      "C:\\Users\\Agung\\Anaconda3\\lib\\site-packages\\sklearn\\neural_network\\multilayer_perceptron.py:566: ConvergenceWarning: Stochastic Optimizer: Maximum iterations (400) reached and the optimization hasn't converged yet.\n",
      "  % self.max_iter, ConvergenceWarning)\n"
     ]
    },
    {
     "name": "stdout",
     "output_type": "stream",
     "text": [
      "Training set Score : 0.830000\n",
      "Training set loss : 0.512595\n",
      "Training : adam\n",
      "Training set Score : 0.930000\n",
      "Training set loss : 0.170087\n"
     ]
    },
    {
     "name": "stderr",
     "output_type": "stream",
     "text": [
      "C:\\Users\\Agung\\Anaconda3\\lib\\site-packages\\sklearn\\neural_network\\multilayer_perceptron.py:566: ConvergenceWarning: Stochastic Optimizer: Maximum iterations (400) reached and the optimization hasn't converged yet.\n",
      "  % self.max_iter, ConvergenceWarning)\n"
     ]
    },
    {
     "data": {
      "text/plain": [
       "<Figure size 1500x1000 with 4 Axes>"
      ]
     },
     "metadata": {},
     "output_type": "display_data"
    }
   ],
   "source": [
    "# CNN = Convolutional Neural Network\n",
    "\n",
    "print (__doc__)\n",
    "import matplotlib.pyplot as plt\n",
    "from sklearn.neural_network import MLPClassifier\n",
    "from sklearn.preprocessing import MinMaxScaler\n",
    "from sklearn import datasets\n",
    "\n",
    "params = [{'solver':'sgd','learning_rate':'constant','momentum':0,'learning_rate_init' : 0.2},\n",
    "          {'solver':'sgd','learning_rate':'constant','momentum':.9,'nesterovs_momentum': False, 'learning_rate_init': 0.2},\n",
    "          {'solver':'sgd','learning_rate':'constant','momentum':.9,'nesterovs_momentum': True, 'learning_rate_init' : 0.2},\n",
    "          {'solver':'sgd','learning_rate':'invscaling','momentum':0,'learning_rate_init' : 0.2},\n",
    "          {'solver':'sgd','learning_rate':'invscaling','momentum':.9,'nesterovs_momentum': False, 'learning_rate_init' : 0.2},\n",
    "          {'solver':'sgd','learning_rate':'invscaling','momentum':.9,'nesterovs_momentum': True, 'learning_rate_init' : 0.2},\n",
    "          {'solver':'adam','learning_rate_init' : 0.01},]\n",
    "\n",
    "labels = [\"constant learning-rate\", \"constant with momentum\", \"constant with Nesterov's momentum\", \"inv-scaling learning-rate\",\n",
    "         \"inv-scaling with momentum\", \"inv-scaling with Nesterov\",\"adam\"]\n",
    "\n",
    "plot_args = [{'c' : 'red', 'linestyle' : '-'},\n",
    "            {'c' : 'green', 'linestyle' : '-'},\n",
    "            {'c' : 'blue', 'linestyle' : '-'},\n",
    "            {'c' : 'red', 'linestyle' : '-'},\n",
    "            {'c' : 'green', 'linestyle' : '-'},\n",
    "            {'c' : 'blue', 'linestyle' : '-'},\n",
    "            {'c' : 'black', 'linestyle' : '-'},]\n",
    "\n",
    "def plot_on_dataset(X, y, ax, name):\n",
    "    print(\"\\n learning on dataset %s\" % name)\n",
    "    ax.set_title(name)\n",
    "    X = MinMaxScaler().fit_transform(X)\n",
    "    mlps=[]\n",
    "    \n",
    "    if name == \"digits\" :\n",
    "        max_iter = 15\n",
    "    else :\n",
    "        max_iter = 400\n",
    "    \n",
    "    for label, param in zip(labels, params):\n",
    "        print(\"Training : %s\" % label)\n",
    "        mlp = MLPClassifier(verbose = 0,random_state = 0, max_iter = max_iter, **param)\n",
    "        mlp.fit(X,y)\n",
    "        mlps.append(mlp)\n",
    "        print(\"Training set Score : %f\" % mlp.score(X,y))\n",
    "        print(\"Training set loss : %f\" %mlp.loss_)\n",
    "    for mlp, label, args in zip(mlps, labels, plot_args):\n",
    "        ax.plot(mlp.loss_curve_, label=label, **args)\n",
    "        \n",
    "fig,axes = plt.subplots(2, 2, figsize = (15, 10))\n",
    "\n",
    "iris = datasets.load_iris()\n",
    "digits = datasets.load_digits()\n",
    "\n",
    "data_sets = [(iris.data, iris.target),\n",
    "            (digits.data, digits.target),\n",
    "            datasets.make_circles(noise = 0.2, factor = 0.5, random_state = 1),\n",
    "            datasets.make_moons(noise = 0.3, random_state = 0)]\n",
    "\n",
    "for ax, data, name in zip(axes.ravel(), data_sets, ['iris', 'digits', 'circles', 'moons']):\n",
    "    plot_on_dataset(*data,ax=ax,name=name)\n",
    "\n",
    "fig.legend(ax.get_lines(), labels, ncol = 3, loc=\"upper center\")\n",
    "plt.show()"
   ]
  },
  {
   "cell_type": "code",
   "execution_count": 23,
   "metadata": {},
   "outputs": [],
   "source": []
  },
  {
   "cell_type": "code",
   "execution_count": null,
   "metadata": {},
   "outputs": [],
   "source": []
  }
 ],
 "metadata": {
  "kernelspec": {
   "display_name": "Python 3",
   "language": "python",
   "name": "python3"
  },
  "language_info": {
   "codemirror_mode": {
    "name": "ipython",
    "version": 3
   },
   "file_extension": ".py",
   "mimetype": "text/x-python",
   "name": "python",
   "nbconvert_exporter": "python",
   "pygments_lexer": "ipython3",
   "version": "3.6.5"
  }
 },
 "nbformat": 4,
 "nbformat_minor": 4
}
