{
 "cells": [
  {
   "cell_type": "code",
   "execution_count": 10,
   "metadata": {},
   "outputs": [],
   "source": [
    "import numpy as np\n",
    "import argparse\n",
    "import os\n",
    "\n",
    "from sklearn.neighbors import KNeighborsClassifier\n",
    "from sklearn.naive_bayes import GaussianNB\n",
    "from sklearn.linear_model import LogisticRegression\n",
    "from sklearn.svm import SVC\n",
    "from sklearn.tree import DecisionTreeClassifier\n",
    "from sklearn.ensemble import RandomForestClassifier\n",
    "from sklearn.neural_network import MLPClassifier\n",
    "from sklearn.preprocessing import LabelEncoder\n",
    "from sklearn.preprocessing import LabelBinarizer\n",
    "from sklearn.model_selection import train_test_split\n",
    "from sklearn.metrics import classification_report\n",
    "from sklearn.datasets import load_iris\n",
    "\n",
    "from PIL import Image\n",
    "from imutils import paths\n"
   ]
  },
  {
   "cell_type": "code",
   "execution_count": 11,
   "metadata": {},
   "outputs": [],
   "source": [
    "def extract_color_stats(image):\n",
    "    (R, G, B) = image.split()\n",
    "    features = [np.mean(R), np.mean(G), np.mean(B), np.std(R), np.std(G), np.std(B)]\n",
    "    \n",
    "    return features"
   ]
  },
  {
   "cell_type": "code",
   "execution_count": 3,
   "metadata": {},
   "outputs": [],
   "source": [
    "models = {\n",
    "    \"knn\" : KNeighborsClassifier(n_neighbors = 1),\n",
    "    \"naive_bayes\" : GaussianNB(),\n",
    "    \"logit\" : LogisticRegression(solver = \"lbfgs\", multi_class = \"auto\"),\n",
    "    #lbfgs = Limited Memory BFGS (Broyden Fletcher Goldfarb Shanno)\n",
    "    \n",
    "    \"svm\" : SVC(kernel=\"linear\"),\n",
    "    # SVC =  Support Vector Machine\n",
    "    \n",
    "    \"decision_tree\" : DecisionTreeClassifier(),\n",
    "    \"random_forest\" : RandomForestClassifier(n_estimators = 100),\n",
    "    # Jumlah pohon nya = 100\n",
    "    \n",
    "    \"mlp\" : MLPClassifier()\n",
    "}"
   ]
  },
  {
   "cell_type": "code",
   "execution_count": 4,
   "metadata": {},
   "outputs": [],
   "source": [
    "ap = argparse.ArgumentParser()\n",
    "ap.add_argument(\"-d\", \"--dataset\", type = str, default = \"3scenes\", help = \"path to directory containing the '3 scenes' dataset\")\n",
    "ap.add_argument(\"-m\", \"--model\", type = str, default = \"knn\", help = \"type of python machine learning model to use\")\n",
    "\n",
    "args = ap.parse_known_args()[0]\n",
    "\n",
    "# args = vars(ap.parse_args())\n"
   ]
  },
  {
   "cell_type": "code",
   "execution_count": 40,
   "metadata": {},
   "outputs": [
    {
     "name": "stdout",
     "output_type": "stream",
     "text": [
      "[INFO] extracting image features...\n"
     ]
    }
   ],
   "source": [
    "# Model : knn , naive_bayes, logit, svm, decision_tree, random_forest, mlp\n",
    "\n",
    "print (\"[INFO] extracting image features...\")\n",
    "imagePaths = paths.list_images(\"3scenes\")\n",
    "\n",
    "data = []\n",
    "labels = []\n",
    "\n",
    "for imagePath in imagePaths:\n",
    "    image = Image.open(imagePath)\n",
    "    features = extract_color_stats(image)\n",
    "    data.append(features)\n",
    "    \n",
    "    label = imagePath.split(os.path.sep)[-2]\n",
    "    labels.append(label)"
   ]
  },
  {
   "cell_type": "code",
   "execution_count": 41,
   "metadata": {},
   "outputs": [],
   "source": [
    "le = LabelEncoder()\n",
    "labels = le.fit_transform(labels)"
   ]
  },
  {
   "cell_type": "code",
   "execution_count": 42,
   "metadata": {},
   "outputs": [],
   "source": [
    "(trainX, testX, trainY, testY) = train_test_split(data, labels, test_size = 0.25)"
   ]
  },
  {
   "cell_type": "code",
   "execution_count": 44,
   "metadata": {},
   "outputs": [
    {
     "name": "stdout",
     "output_type": "stream",
     "text": [
      "[INFO] using 'knn' model\n",
      "[INFO] evaluating... \n",
      "              precision    recall  f1-score   support\n",
      "\n",
      "       coast       0.83      0.74      0.78        90\n",
      "      forest       0.88      0.82      0.85        84\n",
      "     highway       0.65      0.81      0.72        63\n",
      "\n",
      "    accuracy                           0.79       237\n",
      "   macro avg       0.79      0.79      0.79       237\n",
      "weighted avg       0.80      0.79      0.79       237\n",
      "\n"
     ]
    }
   ],
   "source": [
    "print (\"[INFO] using '{}' model\".format('knn'))\n",
    "model = models['knn']\n",
    "model.fit(trainX, trainY) # Proses mentraining model yang di dapat dari trainX dan trainY\n",
    "# x = Input, y = Output\n",
    "\n",
    "print(\"[INFO] evaluating... \")\n",
    "predictions = model.predict(testX)\n",
    "\n",
    "print(classification_report(testY, predictions, target_names = le.classes_))"
   ]
  },
  {
   "cell_type": "code",
   "execution_count": null,
   "metadata": {},
   "outputs": [],
   "source": []
  }
 ],
 "metadata": {
  "kernelspec": {
   "display_name": "Python 3",
   "language": "python",
   "name": "python3"
  },
  "language_info": {
   "codemirror_mode": {
    "name": "ipython",
    "version": 3
   },
   "file_extension": ".py",
   "mimetype": "text/x-python",
   "name": "python",
   "nbconvert_exporter": "python",
   "pygments_lexer": "ipython3",
   "version": "3.6.5"
  }
 },
 "nbformat": 4,
 "nbformat_minor": 4
}
